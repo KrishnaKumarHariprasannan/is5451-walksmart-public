{
 "cells": [
  {
   "cell_type": "markdown",
   "id": "18887d0b-96c1-49b9-af1d-6d7ba14125bd",
   "metadata": {},
   "source": [
    "## Imports"
   ]
  },
  {
   "cell_type": "code",
   "execution_count": 1,
   "id": "e9480306-6324-44ef-b52b-789bd65e09c3",
   "metadata": {
    "execution": {
     "iopub.execute_input": "2022-04-16T17:53:12.407363Z",
     "iopub.status.busy": "2022-04-16T17:53:12.407128Z",
     "iopub.status.idle": "2022-04-16T17:53:14.525731Z",
     "shell.execute_reply": "2022-04-16T17:53:14.524742Z",
     "shell.execute_reply.started": "2022-04-16T17:53:12.407299Z"
    },
    "tags": []
   },
   "outputs": [],
   "source": [
    "import torch\n",
    "\n",
    "import pandas as pd\n",
    "import numpy as np\n",
    "\n",
    "from tqdm import tqdm\n",
    "from sklearn.metrics import accuracy_score"
   ]
  },
  {
   "cell_type": "markdown",
   "id": "3c1b7c4e-308a-46ca-8b84-0a839276b29d",
   "metadata": {},
   "source": [
    "## Load data and split for train/test"
   ]
  },
  {
   "cell_type": "code",
   "execution_count": 2,
   "id": "ec138dad-72d9-440f-9c10-1de043f66eda",
   "metadata": {
    "execution": {
     "iopub.execute_input": "2022-04-16T17:53:14.527405Z",
     "iopub.status.busy": "2022-04-16T17:53:14.526894Z",
     "iopub.status.idle": "2022-04-16T17:53:14.679297Z",
     "shell.execute_reply": "2022-04-16T17:53:14.678490Z",
     "shell.execute_reply.started": "2022-04-16T17:53:14.527378Z"
    },
    "tags": []
   },
   "outputs": [],
   "source": [
    "combined_df = pd.read_csv(\"../data/processed/combined_dataset.csv\")\n",
    "combined_df.set_index([\"data_id\"], inplace=True)"
   ]
  },
  {
   "cell_type": "code",
   "execution_count": 3,
   "id": "16f95096-e70b-4a07-9766-52bf9c429e64",
   "metadata": {
    "execution": {
     "iopub.execute_input": "2022-04-16T17:53:14.682123Z",
     "iopub.status.busy": "2022-04-16T17:53:14.681694Z",
     "iopub.status.idle": "2022-04-16T17:53:14.704863Z",
     "shell.execute_reply": "2022-04-16T17:53:14.704113Z",
     "shell.execute_reply.started": "2022-04-16T17:53:14.682092Z"
    },
    "tags": []
   },
   "outputs": [],
   "source": [
    "from sklearn.model_selection import train_test_split\n",
    "\n",
    "combined_data = np.array(\n",
    "    list(set(zip(combined_df.index.get_level_values(0), combined_df.label)))\n",
    ")\n",
    "data_ids = combined_data[:, 0]\n",
    "labels = combined_data[:, 1]\n",
    "train_data_ids, test_data_ids, _, _ = train_test_split(\n",
    "    data_ids, labels, test_size=0.2, random_state=31, stratify=labels\n",
    ")"
   ]
  },
  {
   "cell_type": "code",
   "execution_count": 4,
   "id": "9d959887-c5d9-4602-840f-e86e6beef98d",
   "metadata": {
    "execution": {
     "iopub.execute_input": "2022-04-16T17:53:14.706229Z",
     "iopub.status.busy": "2022-04-16T17:53:14.705983Z",
     "iopub.status.idle": "2022-04-16T17:53:14.848297Z",
     "shell.execute_reply": "2022-04-16T17:53:14.847414Z",
     "shell.execute_reply.started": "2022-04-16T17:53:14.706203Z"
    },
    "tags": []
   },
   "outputs": [],
   "source": [
    "train_x = []\n",
    "train_y = []\n",
    "for current_idx, train_data_id in enumerate(train_data_ids):\n",
    "    current_point = combined_df.loc[train_data_id]\n",
    "    train_x.append(\n",
    "        torch.Tensor(\n",
    "            current_point[[\"x\", \"y\", \"z\"]].to_numpy().transpose(1, 0).flatten()\n",
    "        )\n",
    "    )\n",
    "    train_y.append(\n",
    "        torch.Tensor([1.0] if current_point[\"label\"].unique()[0] == 1 else [0.0])\n",
    "    )\n",
    "\n",
    "train_x = torch.vstack(train_x)\n",
    "train_y = torch.squeeze(torch.vstack(train_y))"
   ]
  },
  {
   "cell_type": "code",
   "execution_count": 5,
   "id": "4ef2a66f-96f6-47ab-a1b3-4e8e638bd4e5",
   "metadata": {
    "execution": {
     "iopub.execute_input": "2022-04-16T17:53:14.849768Z",
     "iopub.status.busy": "2022-04-16T17:53:14.849506Z",
     "iopub.status.idle": "2022-04-16T17:53:14.867494Z",
     "shell.execute_reply": "2022-04-16T17:53:14.866716Z",
     "shell.execute_reply.started": "2022-04-16T17:53:14.849741Z"
    },
    "tags": []
   },
   "outputs": [
    {
     "data": {
      "text/plain": [
       "(torch.Size([155, 225]), torch.Size([155]))"
      ]
     },
     "execution_count": 5,
     "metadata": {},
     "output_type": "execute_result"
    }
   ],
   "source": [
    "train_x.shape, train_y.shape"
   ]
  },
  {
   "cell_type": "code",
   "execution_count": 6,
   "id": "a9bf8308-93df-4645-b1a4-be48d3045f04",
   "metadata": {
    "execution": {
     "iopub.execute_input": "2022-04-16T17:53:14.868913Z",
     "iopub.status.busy": "2022-04-16T17:53:14.868543Z",
     "iopub.status.idle": "2022-04-16T17:53:14.920813Z",
     "shell.execute_reply": "2022-04-16T17:53:14.918734Z",
     "shell.execute_reply.started": "2022-04-16T17:53:14.868885Z"
    },
    "tags": []
   },
   "outputs": [],
   "source": [
    "test_x = []\n",
    "test_y = []\n",
    "for current_idx, test_data_id in enumerate(test_data_ids):\n",
    "    current_point = combined_df.loc[test_data_id]\n",
    "    test_x.append(\n",
    "        torch.Tensor(\n",
    "            current_point[[\"x\", \"y\", \"z\"]].to_numpy().transpose(1, 0).flatten()\n",
    "        )\n",
    "    )\n",
    "    test_y.append(\n",
    "        torch.Tensor([1.0] if current_point[\"label\"].unique()[0] == 1 else [0.0])\n",
    "    )\n",
    "\n",
    "test_x = torch.vstack(test_x)\n",
    "test_y = torch.squeeze(torch.vstack(test_y))"
   ]
  },
  {
   "cell_type": "code",
   "execution_count": 7,
   "id": "bd8923fb-a366-4f71-bf01-312452c6b4f5",
   "metadata": {
    "execution": {
     "iopub.execute_input": "2022-04-16T17:53:14.922714Z",
     "iopub.status.busy": "2022-04-16T17:53:14.922438Z",
     "iopub.status.idle": "2022-04-16T17:53:14.936169Z",
     "shell.execute_reply": "2022-04-16T17:53:14.935565Z",
     "shell.execute_reply.started": "2022-04-16T17:53:14.922680Z"
    },
    "tags": []
   },
   "outputs": [
    {
     "data": {
      "text/plain": [
       "(torch.Size([39, 225]), torch.Size([39]))"
      ]
     },
     "execution_count": 7,
     "metadata": {},
     "output_type": "execute_result"
    }
   ],
   "source": [
    "test_x.shape, test_y.shape"
   ]
  },
  {
   "cell_type": "markdown",
   "id": "50b8d01a-5b21-467b-ae2d-6f0a9f3ce08f",
   "metadata": {},
   "source": [
    "## Model Definition"
   ]
  },
  {
   "cell_type": "code",
   "execution_count": 8,
   "id": "0bac1269-558f-42ac-ab3c-5efda7f525a5",
   "metadata": {
    "execution": {
     "iopub.execute_input": "2022-04-16T17:53:14.937421Z",
     "iopub.status.busy": "2022-04-16T17:53:14.937170Z",
     "iopub.status.idle": "2022-04-16T17:53:14.952976Z",
     "shell.execute_reply": "2022-04-16T17:53:14.952366Z",
     "shell.execute_reply.started": "2022-04-16T17:53:14.937396Z"
    },
    "tags": []
   },
   "outputs": [],
   "source": [
    "class ClassificationNetCNN(torch.nn.Module):\n",
    "    def __init__(self, input_size=225, hidden_size=50, output_size=2):\n",
    "        super(ClassificationNetCNN, self).__init__()\n",
    "        self.conv1 = torch.nn.Conv1d(1, 20, kernel_size=3, padding=1)\n",
    "        self.conv2 = torch.nn.Conv1d(20, 10, kernel_size=3, padding=1)\n",
    "        self.linear = torch.nn.Linear(1120, 2)\n",
    "\n",
    "    def forward(self, x):\n",
    "        # 1 * 225 -> 20 * 225\n",
    "        y = self.conv1(x)\n",
    "        y = torch.relu(y)\n",
    "        # 20 * 225 -> 20 * 112\n",
    "        y = torch.max_pool1d(y, 2)\n",
    "\n",
    "        # 20 * 112 -> 10 * 112\n",
    "        y = self.conv2(y)\n",
    "        y = torch.relu(y)\n",
    "\n",
    "        y = y.view(-1, 1120)\n",
    "\n",
    "        # n * 1120 -> n * 2\n",
    "        scores = self.linear(y)\n",
    "        return scores"
   ]
  },
  {
   "cell_type": "code",
   "execution_count": 9,
   "id": "86b64db4-6faa-42d2-92c1-705112e0414f",
   "metadata": {
    "execution": {
     "iopub.execute_input": "2022-04-16T17:53:14.954874Z",
     "iopub.status.busy": "2022-04-16T17:53:14.954300Z",
     "iopub.status.idle": "2022-04-16T17:53:14.967054Z",
     "shell.execute_reply": "2022-04-16T17:53:14.966288Z",
     "shell.execute_reply.started": "2022-04-16T17:53:14.954836Z"
    },
    "tags": []
   },
   "outputs": [],
   "source": [
    "model = ClassificationNetCNN()"
   ]
  },
  {
   "cell_type": "markdown",
   "id": "e47272c2-7ae9-4d5b-bd42-8b25cfdfbd6a",
   "metadata": {},
   "source": [
    "## Training"
   ]
  },
  {
   "cell_type": "code",
   "execution_count": 10,
   "id": "293bb8fa-d431-490f-9b25-24a2fa505911",
   "metadata": {
    "execution": {
     "iopub.execute_input": "2022-04-16T17:53:14.968916Z",
     "iopub.status.busy": "2022-04-16T17:53:14.968504Z",
     "iopub.status.idle": "2022-04-16T17:53:14.983801Z",
     "shell.execute_reply": "2022-04-16T17:53:14.982940Z",
     "shell.execute_reply.started": "2022-04-16T17:53:14.968877Z"
    },
    "tags": []
   },
   "outputs": [],
   "source": [
    "lr = 0.001\n",
    "criterion = torch.nn.CrossEntropyLoss()\n",
    "optimizer = torch.optim.SGD(model.parameters(), lr=lr)"
   ]
  },
  {
   "cell_type": "code",
   "execution_count": 11,
   "id": "159064ba-69db-423b-b68f-ae442b1e5966",
   "metadata": {
    "execution": {
     "iopub.execute_input": "2022-04-16T17:53:14.985717Z",
     "iopub.status.busy": "2022-04-16T17:53:14.984974Z",
     "iopub.status.idle": "2022-04-16T17:53:15.001934Z",
     "shell.execute_reply": "2022-04-16T17:53:15.000895Z",
     "shell.execute_reply.started": "2022-04-16T17:53:14.985664Z"
    },
    "tags": []
   },
   "outputs": [],
   "source": [
    "def get_accuracy(scores, labels):\n",
    "    num_data = scores.size(0)\n",
    "    predicted_labels = scores.argmax(dim=1)\n",
    "    indicator = predicted_labels == labels\n",
    "    num_matches = indicator.sum()\n",
    "    return 100 * num_matches.float() / num_data"
   ]
  },
  {
   "cell_type": "code",
   "execution_count": 12,
   "id": "93fb3a76-c61c-4ccd-8dfe-0aacf84cab25",
   "metadata": {
    "execution": {
     "iopub.execute_input": "2022-04-16T17:53:15.008012Z",
     "iopub.status.busy": "2022-04-16T17:53:15.007526Z",
     "iopub.status.idle": "2022-04-16T17:53:15.901400Z",
     "shell.execute_reply": "2022-04-16T17:53:15.900265Z",
     "shell.execute_reply.started": "2022-04-16T17:53:15.007954Z"
    },
    "tags": []
   },
   "outputs": [
    {
     "name": "stderr",
     "output_type": "stream",
     "text": [
      "Training Progress:   0%|                                                                                                                                                           | 0/80 [00:00<?, ?it/s]/var/folders/k7/scjvrz5d2pz78lkds9g31f7m0000gn/T/ipykernel_9504/387962146.py:14: UserWarning: Named tensors and all their associated APIs are an experimental feature and subject to change. Please do not use them for anything important until they are released as stable. (Triggered internally at  /tmp/pip-req-build-accccgfm/c10/core/TensorImpl.h:1156.)\n",
      "  y = torch.max_pool1d(y, 2)\n",
      "Training Progress: 100%|██████████████████████████████████████████████████████████████████████████████████████████████████████████████████████████████████████████████████| 80/80 [00:00<00:00, 93.08it/s]\n"
     ]
    }
   ],
   "source": [
    "iterations = 80\n",
    "\n",
    "train_losses = []\n",
    "train_accuracies = []\n",
    "test_accuracies = []\n",
    "\n",
    "for curr_iter in tqdm(range(iterations), desc=\"Training Progress\"):\n",
    "    optimizer.zero_grad()\n",
    "    model_in = train_x\n",
    "    model_in.requires_grad_()\n",
    "    model_in = model_in.view(-1, 1, 225)\n",
    "    model_out = model(model_in)\n",
    "    loss = criterion(model_out, train_y.long())\n",
    "    loss.backward()\n",
    "    optimizer.step()\n",
    "    train_losses.append(loss.item())\n",
    "    train_accuracies.append(get_accuracy(model_out, train_y))\n",
    "\n",
    "    if curr_iter % 10 == 0:\n",
    "        with torch.no_grad():\n",
    "            test_x_tr = test_x.view(-1, 1, 225)\n",
    "            test_out = model(test_x_tr)\n",
    "            test_accuracies.append(get_accuracy(test_out, test_y))"
   ]
  },
  {
   "cell_type": "markdown",
   "id": "7a536665-561d-42e1-8298-218cecffa7b5",
   "metadata": {},
   "source": [
    "## Training Results"
   ]
  },
  {
   "cell_type": "code",
   "execution_count": 13,
   "id": "f9e27be8-30a1-45d2-b30d-1d5bce0d5161",
   "metadata": {
    "execution": {
     "iopub.execute_input": "2022-04-16T17:53:15.903416Z",
     "iopub.status.busy": "2022-04-16T17:53:15.902888Z",
     "iopub.status.idle": "2022-04-16T17:53:16.355892Z",
     "shell.execute_reply": "2022-04-16T17:53:16.355245Z",
     "shell.execute_reply.started": "2022-04-16T17:53:15.903380Z"
    },
    "tags": []
   },
   "outputs": [
    {
     "data": {
      "text/plain": [
       "<AxesSubplot:>"
      ]
     },
     "execution_count": 13,
     "metadata": {},
     "output_type": "execute_result"
    },
    {
     "data": {
      "image/png": "[encoded data removed]",
      "text/plain": [
       "<Figure size 432x288 with 1 Axes>"
      ]
     },
     "metadata": {
      "needs_background": "light"
     },
     "output_type": "display_data"
    }
   ],
   "source": [
    "pd.DataFrame(train_accuracies).plot()"
   ]
  },
  {
   "cell_type": "code",
   "execution_count": 14,
   "id": "6300f021-4a1f-4b73-8be8-1d60ba597060",
   "metadata": {
    "execution": {
     "iopub.execute_input": "2022-04-16T17:53:16.357188Z",
     "iopub.status.busy": "2022-04-16T17:53:16.356923Z",
     "iopub.status.idle": "2022-04-16T17:53:16.518625Z",
     "shell.execute_reply": "2022-04-16T17:53:16.517787Z",
     "shell.execute_reply.started": "2022-04-16T17:53:16.357161Z"
    },
    "tags": []
   },
   "outputs": [
    {
     "data": {
      "text/plain": [
       "<AxesSubplot:>"
      ]
     },
     "execution_count": 14,
     "metadata": {},
     "output_type": "execute_result"
    },
    {
     "data": {
      "image/png": "[encoded data removed]",
      "text/plain": [
       "<Figure size 432x288 with 1 Axes>"
      ]
     },
     "metadata": {
      "needs_background": "light"
     },
     "output_type": "display_data"
    }
   ],
   "source": [
    "pd.DataFrame(train_losses[10:]).plot()"
   ]
  },
  {
   "cell_type": "code",
   "execution_count": 15,
   "id": "60efb0af-bbde-4265-a5d3-5921674e99af",
   "metadata": {
    "execution": {
     "iopub.execute_input": "2022-04-16T17:53:16.520708Z",
     "iopub.status.busy": "2022-04-16T17:53:16.520217Z",
     "iopub.status.idle": "2022-04-16T17:53:16.681001Z",
     "shell.execute_reply": "2022-04-16T17:53:16.680383Z",
     "shell.execute_reply.started": "2022-04-16T17:53:16.520679Z"
    },
    "tags": []
   },
   "outputs": [
    {
     "data": {
      "text/plain": [
       "<AxesSubplot:>"
      ]
     },
     "execution_count": 15,
     "metadata": {},
     "output_type": "execute_result"
    },
    {
     "data": {
      "image/png": "[encoded data removed]",
      "text/plain": [
       "<Figure size 432x288 with 1 Axes>"
      ]
     },
     "metadata": {
      "needs_background": "light"
     },
     "output_type": "display_data"
    }
   ],
   "source": [
    "pd.DataFrame(test_accuracies).plot()"
   ]
  },
  {
   "cell_type": "code",
   "execution_count": 16,
   "id": "fb973b93-1816-4133-895d-ecdd16c1bd8a",
   "metadata": {
    "execution": {
     "iopub.execute_input": "2022-04-16T17:53:16.682224Z",
     "iopub.status.busy": "2022-04-16T17:53:16.681934Z",
     "iopub.status.idle": "2022-04-16T17:53:16.698895Z",
     "shell.execute_reply": "2022-04-16T17:53:16.698229Z",
     "shell.execute_reply.started": "2022-04-16T17:53:16.682198Z"
    },
    "tags": []
   },
   "outputs": [
    {
     "data": {
      "text/plain": [
       "tensor(94.8718)"
      ]
     },
     "execution_count": 16,
     "metadata": {},
     "output_type": "execute_result"
    }
   ],
   "source": [
    "get_accuracy(test_out, test_y)"
   ]
  },
  {
   "cell_type": "markdown",
   "id": "10f16b53-1e56-4f7d-827c-6bc3158b7859",
   "metadata": {},
   "source": [
    "## Persist Model parameters"
   ]
  },
  {
   "cell_type": "code",
   "execution_count": 18,
   "id": "ffb36ec1-e60f-4e82-b8c8-9d7e18f90535",
   "metadata": {
    "execution": {
     "iopub.execute_input": "2022-04-17T02:36:33.642806Z",
     "iopub.status.busy": "2022-04-17T02:36:33.642287Z",
     "iopub.status.idle": "2022-04-17T02:36:33.686241Z",
     "shell.execute_reply": "2022-04-17T02:36:33.685543Z",
     "shell.execute_reply.started": "2022-04-17T02:36:33.642781Z"
    },
    "tags": []
   },
   "outputs": [],
   "source": [
    "# torch.save(model.state_dict(), \"../data/checkpoints/cnn.pth\")"
   ]
  },
  {
   "cell_type": "markdown",
   "id": "98b41683-81fc-42ea-a36d-91dd8fcbf378",
   "metadata": {},
   "source": [
    "## Evaluation"
   ]
  },
  {
   "cell_type": "code",
   "execution_count": 30,
   "id": "52985595-117e-4446-8fe6-d4aa5adbf710",
   "metadata": {
    "execution": {
     "iopub.execute_input": "2022-04-17T03:13:29.119241Z",
     "iopub.status.busy": "2022-04-17T03:13:29.118515Z",
     "iopub.status.idle": "2022-04-17T03:13:29.232427Z",
     "shell.execute_reply": "2022-04-17T03:13:29.231590Z",
     "shell.execute_reply.started": "2022-04-17T03:13:29.119169Z"
    },
    "tags": []
   },
   "outputs": [
    {
     "data": {
      "text/plain": [
       "{'accuracy': 0.9487179487179487, 'f1': 0.9523809523809523, 'recall': 1.0}"
      ]
     },
     "execution_count": 30,
     "metadata": {},
     "output_type": "execute_result"
    }
   ],
   "source": [
    "from sklearn.metrics import accuracy_score, f1_score, recall_score\n",
    "\n",
    "from sklearn.metrics import accuracy_score, f1_score, recall_score\n",
    "\n",
    "def compute_evaluation_metrics(y_true, y_pred):\n",
    "    return {\n",
    "        \"accuracy\": accuracy_score(y_true, y_pred),\n",
    "        \"f1\": f1_score(y_true, y_pred),\n",
    "        \"recall\": recall_score(y_true, y_pred),\n",
    "    }\n",
    "\n",
    "compute_evaluation_metrics(test_y.numpy(), test_out.argmax(dim=1).numpy())"
   ]
  }
 ],
 "metadata": {
  "kernelspec": {
   "display_name": "Python 3 (ipykernel)",
   "language": "python",
   "name": "python3"
  },
  "language_info": {
   "codemirror_mode": {
    "name": "ipython",
    "version": 3
   },
   "file_extension": ".py",
   "mimetype": "text/x-python",
   "name": "python",
   "nbconvert_exporter": "python",
   "pygments_lexer": "ipython3",
   "version": "3.9.5"
  }
 },
 "nbformat": 4,
 "nbformat_minor": 5
}
