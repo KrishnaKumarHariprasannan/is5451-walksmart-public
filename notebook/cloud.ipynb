{
 "cells": [
  {
   "cell_type": "code",
   "execution_count": 13,
   "id": "eccaa85d-62f1-4a65-a823-c581e24bed53",
   "metadata": {
    "execution": {
     "iopub.execute_input": "2022-04-17T02:34:03.018058Z",
     "iopub.status.busy": "2022-04-17T02:34:03.017568Z",
     "iopub.status.idle": "2022-04-17T02:34:04.035336Z",
     "shell.execute_reply": "2022-04-17T02:34:04.034590Z",
     "shell.execute_reply.started": "2022-04-17T02:34:03.018032Z"
    },
    "tags": []
   },
   "outputs": [],
   "source": [
    "import requests\n",
    "import pandas as pd"
   ]
  },
  {
   "cell_type": "markdown",
   "id": "7dd779ef-9d96-4559-be67-7785d4d45219",
   "metadata": {},
   "source": [
    "## Testing Fall Detection Service"
   ]
  },
  {
   "cell_type": "code",
   "execution_count": 14,
   "id": "a052b29c-f693-4af7-8aa1-93cf45957fc3",
   "metadata": {
    "execution": {
     "iopub.execute_input": "2022-04-17T02:34:04.037213Z",
     "iopub.status.busy": "2022-04-17T02:34:04.036776Z",
     "iopub.status.idle": "2022-04-17T02:34:04.121699Z",
     "shell.execute_reply": "2022-04-17T02:34:04.120935Z",
     "shell.execute_reply.started": "2022-04-17T02:34:04.037187Z"
    },
    "tags": []
   },
   "outputs": [],
   "source": [
    "combined_df = pd.read_csv(\"../data/processed/combined_dataset.csv\")\n",
    "combined_df.set_index([\"data_id\"], inplace=True)"
   ]
  },
  {
   "cell_type": "code",
   "execution_count": 15,
   "id": "c5b9ce86-d1cb-4b5a-9ebd-9d644dc94359",
   "metadata": {
    "execution": {
     "iopub.execute_input": "2022-04-17T02:34:04.384374Z",
     "iopub.status.busy": "2022-04-17T02:34:04.384035Z",
     "iopub.status.idle": "2022-04-17T02:34:04.437506Z",
     "shell.execute_reply": "2022-04-17T02:34:04.418808Z",
     "shell.execute_reply.started": "2022-04-17T02:34:04.384339Z"
    },
    "tags": []
   },
   "outputs": [
    {
     "data": {
      "text/plain": [
       "array([[  -72.,  1020.,     4.],\n",
       "       [  -64.,  1064.,     0.],\n",
       "       [  -64.,  1064.,     0.],\n",
       "       ...,\n",
       "       [-1692.,  -964., -1476.],\n",
       "       [  -76.,  1020.,    -4.],\n",
       "       [  -52.,  1024.,    12.]])"
      ]
     },
     "execution_count": 15,
     "metadata": {},
     "output_type": "execute_result"
    }
   ],
   "source": [
    "input_arr = combined_df[:500][[\"x\", \"y\", \"z\"]].to_numpy()\n",
    "input_arr"
   ]
  },
  {
   "cell_type": "code",
   "execution_count": 16,
   "id": "c61aa821-5996-42ce-95ea-7c33ee65a126",
   "metadata": {
    "execution": {
     "iopub.execute_input": "2022-04-17T02:34:05.024020Z",
     "iopub.status.busy": "2022-04-17T02:34:05.023630Z",
     "iopub.status.idle": "2022-04-17T02:34:05.079318Z",
     "shell.execute_reply": "2022-04-17T02:34:05.077052Z",
     "shell.execute_reply.started": "2022-04-17T02:34:05.023963Z"
    },
    "tags": []
   },
   "outputs": [],
   "source": [
    "resp = requests.post(\"http://127.0.0.1:5001/\", json={\"data\": input_arr.tolist()})\n"
   ]
  },
  {
   "cell_type": "code",
   "execution_count": 22,
   "id": "a0043d6e-ac53-4773-ad16-db25dfcd2192",
   "metadata": {
    "execution": {
     "iopub.execute_input": "2022-04-17T02:34:48.869014Z",
     "iopub.status.busy": "2022-04-17T02:34:48.868712Z",
     "iopub.status.idle": "2022-04-17T02:34:48.880909Z",
     "shell.execute_reply": "2022-04-17T02:34:48.879941Z",
     "shell.execute_reply.started": "2022-04-17T02:34:48.868990Z"
    },
    "tags": []
   },
   "outputs": [
    {
     "data": {
      "text/plain": [
       "[b'<!DOCTYPE HTML PUBLIC \"-//W3C//DTD HTML 3.2 Final//EN\">',\n",
       " b'<title>500 Internal Server Error</title>',\n",
       " b'<h1>Internal Server Error</h1>',\n",
       " b'<p>The server encountered an internal error and was unable to complete your request. Either the server is overloaded or there is an error in the application.</p>']"
      ]
     },
     "execution_count": 22,
     "metadata": {},
     "output_type": "execute_result"
    }
   ],
   "source": [
    "list(resp.iter_lines())"
   ]
  }
 ],
 "metadata": {
  "kernelspec": {
   "display_name": "Python 3 (ipykernel)",
   "language": "python",
   "name": "python3"
  },
  "language_info": {
   "codemirror_mode": {
    "name": "ipython",
    "version": 3
   },
   "file_extension": ".py",
   "mimetype": "text/x-python",
   "name": "python",
   "nbconvert_exporter": "python",
   "pygments_lexer": "ipython3",
   "version": "3.9.5"
  }
 },
 "nbformat": 4,
 "nbformat_minor": 5
}
