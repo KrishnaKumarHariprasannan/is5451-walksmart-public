{
 "cells": [
  {
   "cell_type": "markdown",
   "id": "18887d0b-96c1-49b9-af1d-6d7ba14125bd",
   "metadata": {},
   "source": [
    "## Imports"
   ]
  },
  {
   "cell_type": "code",
   "execution_count": 1,
   "id": "e9480306-6324-44ef-b52b-789bd65e09c3",
   "metadata": {
    "execution": {
     "iopub.execute_input": "2022-04-16T17:25:53.705303Z",
     "iopub.status.busy": "2022-04-16T17:25:53.704900Z",
     "iopub.status.idle": "2022-04-16T17:25:55.873707Z",
     "shell.execute_reply": "2022-04-16T17:25:55.872878Z",
     "shell.execute_reply.started": "2022-04-16T17:25:53.705234Z"
    },
    "tags": []
   },
   "outputs": [],
   "source": [
    "import torch\n",
    "\n",
    "import pandas as pd\n",
    "import numpy as np\n",
    "\n",
    "from tqdm import tqdm\n",
    "from sklearn.metrics import accuracy_score"
   ]
  },
  {
   "cell_type": "markdown",
   "id": "3c1b7c4e-308a-46ca-8b84-0a839276b29d",
   "metadata": {},
   "source": [
    "## Load data and split for train/test"
   ]
  },
  {
   "cell_type": "code",
   "execution_count": 2,
   "id": "ec138dad-72d9-440f-9c10-1de043f66eda",
   "metadata": {
    "execution": {
     "iopub.execute_input": "2022-04-16T17:25:55.875791Z",
     "iopub.status.busy": "2022-04-16T17:25:55.874991Z",
     "iopub.status.idle": "2022-04-16T17:25:56.029425Z",
     "shell.execute_reply": "2022-04-16T17:25:56.028530Z",
     "shell.execute_reply.started": "2022-04-16T17:25:55.875744Z"
    },
    "tags": []
   },
   "outputs": [],
   "source": [
    "combined_df = pd.read_csv(\"../data/processed/combined_dataset.csv\")\n",
    "combined_df.set_index([\"data_id\"], inplace=True)"
   ]
  },
  {
   "cell_type": "code",
   "execution_count": 3,
   "id": "16f95096-e70b-4a07-9766-52bf9c429e64",
   "metadata": {
    "execution": {
     "iopub.execute_input": "2022-04-16T17:25:56.032531Z",
     "iopub.status.busy": "2022-04-16T17:25:56.032254Z",
     "iopub.status.idle": "2022-04-16T17:25:56.055161Z",
     "shell.execute_reply": "2022-04-16T17:25:56.054457Z",
     "shell.execute_reply.started": "2022-04-16T17:25:56.032505Z"
    },
    "tags": []
   },
   "outputs": [],
   "source": [
    "from sklearn.model_selection import train_test_split\n",
    "\n",
    "combined_data = np.array(\n",
    "    list(set(zip(combined_df.index.get_level_values(0), combined_df.label)))\n",
    ")\n",
    "data_ids = combined_data[:, 0]\n",
    "labels = combined_data[:, 1]\n",
    "train_data_ids, test_data_ids, _, _ = train_test_split(\n",
    "    data_ids, labels, test_size=0.2, random_state=31, stratify=labels\n",
    ")"
   ]
  },
  {
   "cell_type": "code",
   "execution_count": 4,
   "id": "9d959887-c5d9-4602-840f-e86e6beef98d",
   "metadata": {
    "execution": {
     "iopub.execute_input": "2022-04-16T17:25:56.056150Z",
     "iopub.status.busy": "2022-04-16T17:25:56.055997Z",
     "iopub.status.idle": "2022-04-16T17:25:56.195703Z",
     "shell.execute_reply": "2022-04-16T17:25:56.194817Z",
     "shell.execute_reply.started": "2022-04-16T17:25:56.056129Z"
    },
    "tags": []
   },
   "outputs": [],
   "source": [
    "train_x = []\n",
    "train_y = []\n",
    "for current_idx, train_data_id in enumerate(train_data_ids):\n",
    "    current_point = combined_df.loc[train_data_id]\n",
    "    train_x.append(\n",
    "        torch.Tensor(\n",
    "            current_point[[\"x\", \"y\", \"z\"]].to_numpy().transpose(1, 0).flatten()\n",
    "        )\n",
    "    )\n",
    "    train_y.append(\n",
    "        torch.Tensor([1.0] if current_point[\"label\"].unique()[0] == 1 else [0.0])\n",
    "    )\n",
    "\n",
    "train_x = torch.vstack(train_x)\n",
    "train_y = torch.squeeze(torch.vstack(train_y))"
   ]
  },
  {
   "cell_type": "code",
   "execution_count": 5,
   "id": "4ef2a66f-96f6-47ab-a1b3-4e8e638bd4e5",
   "metadata": {
    "execution": {
     "iopub.execute_input": "2022-04-16T17:25:56.196918Z",
     "iopub.status.busy": "2022-04-16T17:25:56.196667Z",
     "iopub.status.idle": "2022-04-16T17:25:56.215716Z",
     "shell.execute_reply": "2022-04-16T17:25:56.214783Z",
     "shell.execute_reply.started": "2022-04-16T17:25:56.196892Z"
    },
    "tags": []
   },
   "outputs": [
    {
     "data": {
      "text/plain": [
       "(torch.Size([155, 225]), torch.Size([155]))"
      ]
     },
     "execution_count": 5,
     "metadata": {},
     "output_type": "execute_result"
    }
   ],
   "source": [
    "train_x.shape, train_y.shape"
   ]
  },
  {
   "cell_type": "code",
   "execution_count": 6,
   "id": "a9bf8308-93df-4645-b1a4-be48d3045f04",
   "metadata": {
    "execution": {
     "iopub.execute_input": "2022-04-16T17:25:56.217248Z",
     "iopub.status.busy": "2022-04-16T17:25:56.216832Z",
     "iopub.status.idle": "2022-04-16T17:25:56.265913Z",
     "shell.execute_reply": "2022-04-16T17:25:56.265187Z",
     "shell.execute_reply.started": "2022-04-16T17:25:56.217195Z"
    },
    "tags": []
   },
   "outputs": [],
   "source": [
    "test_x = []\n",
    "test_y = []\n",
    "for current_idx, test_data_id in enumerate(test_data_ids):\n",
    "    current_point = combined_df.loc[test_data_id]\n",
    "    test_x.append(\n",
    "        torch.Tensor(\n",
    "            current_point[[\"x\", \"y\", \"z\"]].to_numpy().transpose(1, 0).flatten()\n",
    "        )\n",
    "    )\n",
    "    test_y.append(\n",
    "        torch.Tensor([1.0] if current_point[\"label\"].unique()[0] == 1 else [0.0])\n",
    "    )\n",
    "\n",
    "test_x = torch.vstack(test_x)\n",
    "test_y = torch.squeeze(torch.vstack(test_y))"
   ]
  },
  {
   "cell_type": "code",
   "execution_count": 7,
   "id": "bd8923fb-a366-4f71-bf01-312452c6b4f5",
   "metadata": {
    "execution": {
     "iopub.execute_input": "2022-04-16T17:25:56.267360Z",
     "iopub.status.busy": "2022-04-16T17:25:56.267065Z",
     "iopub.status.idle": "2022-04-16T17:25:56.282952Z",
     "shell.execute_reply": "2022-04-16T17:25:56.282381Z",
     "shell.execute_reply.started": "2022-04-16T17:25:56.267335Z"
    },
    "tags": []
   },
   "outputs": [
    {
     "data": {
      "text/plain": [
       "(torch.Size([39, 225]), torch.Size([39]))"
      ]
     },
     "execution_count": 7,
     "metadata": {},
     "output_type": "execute_result"
    }
   ],
   "source": [
    "test_x.shape, test_y.shape"
   ]
  },
  {
   "cell_type": "markdown",
   "id": "50b8d01a-5b21-467b-ae2d-6f0a9f3ce08f",
   "metadata": {},
   "source": [
    "## Model Definition"
   ]
  },
  {
   "cell_type": "code",
   "execution_count": 8,
   "id": "0bac1269-558f-42ac-ab3c-5efda7f525a5",
   "metadata": {
    "execution": {
     "iopub.execute_input": "2022-04-16T17:25:56.284335Z",
     "iopub.status.busy": "2022-04-16T17:25:56.284077Z",
     "iopub.status.idle": "2022-04-16T17:25:56.301042Z",
     "shell.execute_reply": "2022-04-16T17:25:56.300482Z",
     "shell.execute_reply.started": "2022-04-16T17:25:56.284313Z"
    },
    "tags": []
   },
   "outputs": [],
   "source": [
    "class ClassificationNetMLP(torch.nn.Module):\n",
    "    def __init__(self, input_size=225, hidden_size=50, output_size=2):\n",
    "        super(ClassificationNetMLP, self).__init__()\n",
    "        self.pred_net = torch.nn.Sequential(\n",
    "            torch.nn.Linear(input_size, hidden_size),\n",
    "            torch.nn.ReLU(),\n",
    "            torch.nn.Dropout(0.5),\n",
    "            torch.nn.Linear(hidden_size, output_size),\n",
    "        )\n",
    "\n",
    "    def forward(self, x):\n",
    "        scores = self.pred_net(x)\n",
    "        return scores"
   ]
  },
  {
   "cell_type": "code",
   "execution_count": 9,
   "id": "86b64db4-6faa-42d2-92c1-705112e0414f",
   "metadata": {
    "execution": {
     "iopub.execute_input": "2022-04-16T17:25:56.302773Z",
     "iopub.status.busy": "2022-04-16T17:25:56.302368Z",
     "iopub.status.idle": "2022-04-16T17:25:56.315161Z",
     "shell.execute_reply": "2022-04-16T17:25:56.314558Z",
     "shell.execute_reply.started": "2022-04-16T17:25:56.302742Z"
    },
    "tags": []
   },
   "outputs": [],
   "source": [
    "model = ClassificationNetMLP()"
   ]
  },
  {
   "cell_type": "markdown",
   "id": "e47272c2-7ae9-4d5b-bd42-8b25cfdfbd6a",
   "metadata": {},
   "source": [
    "## Training"
   ]
  },
  {
   "cell_type": "code",
   "execution_count": 10,
   "id": "293bb8fa-d431-490f-9b25-24a2fa505911",
   "metadata": {
    "execution": {
     "iopub.execute_input": "2022-04-16T17:25:56.316508Z",
     "iopub.status.busy": "2022-04-16T17:25:56.316036Z",
     "iopub.status.idle": "2022-04-16T17:25:56.332479Z",
     "shell.execute_reply": "2022-04-16T17:25:56.331701Z",
     "shell.execute_reply.started": "2022-04-16T17:25:56.316470Z"
    },
    "tags": []
   },
   "outputs": [],
   "source": [
    "lr = 0.001\n",
    "criterion = torch.nn.CrossEntropyLoss()\n",
    "optimizer = torch.optim.SGD(model.parameters(), lr=lr)"
   ]
  },
  {
   "cell_type": "code",
   "execution_count": 11,
   "id": "159064ba-69db-423b-b68f-ae442b1e5966",
   "metadata": {
    "execution": {
     "iopub.execute_input": "2022-04-16T17:25:56.334270Z",
     "iopub.status.busy": "2022-04-16T17:25:56.333977Z",
     "iopub.status.idle": "2022-04-16T17:25:56.348157Z",
     "shell.execute_reply": "2022-04-16T17:25:56.347526Z",
     "shell.execute_reply.started": "2022-04-16T17:25:56.334246Z"
    },
    "tags": []
   },
   "outputs": [],
   "source": [
    "def get_accuracy(scores, labels):\n",
    "    num_data = scores.size(0)\n",
    "    predicted_labels = scores.argmax(dim=1)\n",
    "    indicator = predicted_labels == labels\n",
    "    num_matches = indicator.sum()\n",
    "    return 100 * num_matches.float() / num_data"
   ]
  },
  {
   "cell_type": "code",
   "execution_count": 12,
   "id": "93fb3a76-c61c-4ccd-8dfe-0aacf84cab25",
   "metadata": {
    "execution": {
     "iopub.execute_input": "2022-04-16T17:25:56.352109Z",
     "iopub.status.busy": "2022-04-16T17:25:56.351837Z",
     "iopub.status.idle": "2022-04-16T17:25:56.573146Z",
     "shell.execute_reply": "2022-04-16T17:25:56.572083Z",
     "shell.execute_reply.started": "2022-04-16T17:25:56.352083Z"
    },
    "tags": []
   },
   "outputs": [
    {
     "name": "stderr",
     "output_type": "stream",
     "text": [
      "Training Progress: 100%|██████████████████████████████████████████████████████████████████████████████████████████████████████████████████████████████████████████████| 200/200 [00:00<00:00, 1063.50it/s]\n"
     ]
    }
   ],
   "source": [
    "iterations = 200\n",
    "\n",
    "train_losses = []\n",
    "train_accuracies = []\n",
    "test_accuracies = []\n",
    "\n",
    "for curr_iter in tqdm(range(iterations), desc=\"Training Progress\"):\n",
    "    optimizer.zero_grad()\n",
    "    model_in = train_x\n",
    "    model_in.requires_grad_()\n",
    "    model_out = model(model_in)\n",
    "    loss = criterion(model_out, train_y.long())\n",
    "    loss.backward()\n",
    "    optimizer.step()\n",
    "    train_losses.append(loss.item())\n",
    "    train_accuracies.append(get_accuracy(model_out, train_y))\n",
    "\n",
    "    if curr_iter % 10 == 0:\n",
    "        with torch.no_grad():\n",
    "            test_out = model(test_x)\n",
    "            test_accuracies.append(get_accuracy(test_out, test_y))"
   ]
  },
  {
   "cell_type": "markdown",
   "id": "7a536665-561d-42e1-8298-218cecffa7b5",
   "metadata": {},
   "source": [
    "## Training Results"
   ]
  },
  {
   "cell_type": "code",
   "execution_count": 13,
   "id": "f9e27be8-30a1-45d2-b30d-1d5bce0d5161",
   "metadata": {
    "execution": {
     "iopub.execute_input": "2022-04-16T17:25:56.575427Z",
     "iopub.status.busy": "2022-04-16T17:25:56.575072Z",
     "iopub.status.idle": "2022-04-16T17:25:57.039952Z",
     "shell.execute_reply": "2022-04-16T17:25:57.039230Z",
     "shell.execute_reply.started": "2022-04-16T17:25:56.575390Z"
    },
    "tags": []
   },
   "outputs": [
    {
     "data": {
      "text/plain": [
       "<AxesSubplot:>"
      ]
     },
     "execution_count": 13,
     "metadata": {},
     "output_type": "execute_result"
    },
    {
     "data": {
      "image/png": "[encoded data removed]",
      "text/plain": [
       "<Figure size 432x288 with 1 Axes>"
      ]
     },
     "metadata": {
      "needs_background": "light"
     },
     "output_type": "display_data"
    }
   ],
   "source": [
    "pd.DataFrame(train_accuracies).plot()"
   ]
  },
  {
   "cell_type": "code",
   "execution_count": 14,
   "id": "6300f021-4a1f-4b73-8be8-1d60ba597060",
   "metadata": {
    "execution": {
     "iopub.execute_input": "2022-04-16T17:25:57.041630Z",
     "iopub.status.busy": "2022-04-16T17:25:57.041238Z",
     "iopub.status.idle": "2022-04-16T17:25:57.215979Z",
     "shell.execute_reply": "2022-04-16T17:25:57.215288Z",
     "shell.execute_reply.started": "2022-04-16T17:25:57.041603Z"
    },
    "tags": []
   },
   "outputs": [
    {
     "data": {
      "text/plain": [
       "<AxesSubplot:>"
      ]
     },
     "execution_count": 14,
     "metadata": {},
     "output_type": "execute_result"
    },
    {
     "data": {
      "image/png": "[encoded data removed]",
      "text/plain": [
       "<Figure size 432x288 with 1 Axes>"
      ]
     },
     "metadata": {
      "needs_background": "light"
     },
     "output_type": "display_data"
    }
   ],
   "source": [
    "pd.DataFrame(train_losses[10:]).plot()"
   ]
  },
  {
   "cell_type": "code",
   "execution_count": 15,
   "id": "60efb0af-bbde-4265-a5d3-5921674e99af",
   "metadata": {
    "execution": {
     "iopub.execute_input": "2022-04-16T17:25:57.217943Z",
     "iopub.status.busy": "2022-04-16T17:25:57.217583Z",
     "iopub.status.idle": "2022-04-16T17:25:57.385583Z",
     "shell.execute_reply": "2022-04-16T17:25:57.384638Z",
     "shell.execute_reply.started": "2022-04-16T17:25:57.217912Z"
    },
    "tags": []
   },
   "outputs": [
    {
     "data": {
      "text/plain": [
       "<AxesSubplot:>"
      ]
     },
     "execution_count": 15,
     "metadata": {},
     "output_type": "execute_result"
    },
    {
     "data": {
      "image/png": "[encoded data removed]",
      "text/plain": [
       "<Figure size 432x288 with 1 Axes>"
      ]
     },
     "metadata": {
      "needs_background": "light"
     },
     "output_type": "display_data"
    }
   ],
   "source": [
    "pd.DataFrame(test_accuracies).plot()"
   ]
  },
  {
   "cell_type": "code",
   "execution_count": 16,
   "id": "fb973b93-1816-4133-895d-ecdd16c1bd8a",
   "metadata": {
    "execution": {
     "iopub.execute_input": "2022-04-16T17:25:57.387853Z",
     "iopub.status.busy": "2022-04-16T17:25:57.387317Z",
     "iopub.status.idle": "2022-04-16T17:25:57.405549Z",
     "shell.execute_reply": "2022-04-16T17:25:57.404914Z",
     "shell.execute_reply.started": "2022-04-16T17:25:57.387781Z"
    },
    "tags": []
   },
   "outputs": [
    {
     "data": {
      "text/plain": [
       "tensor(92.3077)"
      ]
     },
     "execution_count": 16,
     "metadata": {},
     "output_type": "execute_result"
    }
   ],
   "source": [
    "get_accuracy(test_out, test_y)"
   ]
  },
  {
   "cell_type": "markdown",
   "id": "10f16b53-1e56-4f7d-827c-6bc3158b7859",
   "metadata": {},
   "source": [
    "## Persist Model parameters"
   ]
  },
  {
   "cell_type": "code",
   "execution_count": 18,
   "id": "ffb36ec1-e60f-4e82-b8c8-9d7e18f90535",
   "metadata": {
    "execution": {
     "iopub.execute_input": "2022-04-16T17:25:57.424336Z",
     "iopub.status.busy": "2022-04-16T17:25:57.423799Z",
     "iopub.status.idle": "2022-04-16T17:25:57.437639Z",
     "shell.execute_reply": "2022-04-16T17:25:57.436877Z",
     "shell.execute_reply.started": "2022-04-16T17:25:57.424277Z"
    },
    "tags": []
   },
   "outputs": [],
   "source": [
    "# torch.save(model.state_dict(), \"../data/checkpoints/mlp.pth\")"
   ]
  },
  {
   "cell_type": "markdown",
   "id": "a3bcd148-d0c6-4abf-aa0e-1968af9aa975",
   "metadata": {},
   "source": [
    "## Evaluation"
   ]
  },
  {
   "cell_type": "code",
   "execution_count": 20,
   "id": "76503829-e1a7-481f-8431-ed4abf87eaff",
   "metadata": {
    "execution": {
     "iopub.execute_input": "2022-04-17T03:13:17.164919Z",
     "iopub.status.busy": "2022-04-17T03:13:17.164529Z",
     "iopub.status.idle": "2022-04-17T03:13:17.296706Z",
     "shell.execute_reply": "2022-04-17T03:13:17.294368Z",
     "shell.execute_reply.started": "2022-04-17T03:13:17.164889Z"
    },
    "tags": []
   },
   "outputs": [
    {
     "data": {
      "text/plain": [
       "{'accuracy': 0.9230769230769231, 'f1': 0.9189189189189189, 'recall': 0.85}"
      ]
     },
     "execution_count": 20,
     "metadata": {},
     "output_type": "execute_result"
    }
   ],
   "source": [
    "from sklearn.metrics import accuracy_score, f1_score, recall_score\n",
    "\n",
    "def compute_evaluation_metrics(y_true, y_pred):\n",
    "    return {\n",
    "        \"accuracy\": accuracy_score(y_true, y_pred),\n",
    "        \"f1\": f1_score(y_true, y_pred),\n",
    "        \"recall\": recall_score(y_true, y_pred),\n",
    "    }\n",
    "\n",
    "compute_evaluation_metrics(test_y.numpy(), test_out.argmax(dim=1).numpy())"
   ]
  }
 ],
 "metadata": {
  "kernelspec": {
   "display_name": "Python 3 (ipykernel)",
   "language": "python",
   "name": "python3"
  },
  "language_info": {
   "codemirror_mode": {
    "name": "ipython",
    "version": 3
   },
   "file_extension": ".py",
   "mimetype": "text/x-python",
   "name": "python",
   "nbconvert_exporter": "python",
   "pygments_lexer": "ipython3",
   "version": "3.9.5"
  }
 },
 "nbformat": 4,
 "nbformat_minor": 5
}
